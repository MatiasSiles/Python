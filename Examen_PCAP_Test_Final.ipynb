{
  "nbformat": 4,
  "nbformat_minor": 0,
  "metadata": {
    "colab": {
      "provenance": [],
      "authorship_tag": "ABX9TyOg3S+HQRqSQq+hyPgxygRu",
      "include_colab_link": true
    },
    "kernelspec": {
      "name": "python3",
      "display_name": "Python 3"
    },
    "language_info": {
      "name": "python"
    }
  },
  "cells": [
    {
      "cell_type": "markdown",
      "metadata": {
        "id": "view-in-github",
        "colab_type": "text"
      },
      "source": [
        "<a href=\"https://colab.research.google.com/github/MatiasSiles/Python/blob/main/Examen_PCAP_Test_Final.ipynb\" target=\"_parent\"><img src=\"https://colab.research.google.com/assets/colab-badge.svg\" alt=\"Open In Colab\"/></a>"
      ]
    },
    {
      "cell_type": "markdown",
      "source": [
        "Este Test Final del examen PCAP(Certificado Asociado en Programación en Python) por Python Institute, consta de 50 problemas con un tiempo de 90 minutos."
      ],
      "metadata": {
        "id": "HtHdtkEX4JZD"
      }
    },
    {
      "cell_type": "code",
      "execution_count": 140,
      "metadata": {
        "id": "nk5lRVum3Wfw",
        "colab": {
          "base_uri": "https://localhost:8080/"
        },
        "outputId": "3d403d5d-0cb2-43f2-c395-ab47a50705f3"
      },
      "outputs": [
        {
          "output_type": "execute_result",
          "data": {
            "text/plain": [
              "True"
            ]
          },
          "metadata": {},
          "execution_count": 140
        }
      ],
      "source": [
        "#2: Es otra forma de hacer string1 = string2\n",
        "string1 = \"Hola\"\n",
        "string2 = string1[:]\n",
        "string1 == string2"
      ]
    },
    {
      "cell_type": "code",
      "source": [
        "#4: No se puede poner un argumento posicional despues de un key-value\n",
        "def suma(num1,num2):\n",
        "  return num1 + num2\n",
        "print(suma(num1=5,5))"
      ],
      "metadata": {
        "id": "cUN2ylmV6fYQ",
        "colab": {
          "base_uri": "https://localhost:8080/",
          "height": 109
        },
        "outputId": "96b0e6ba-0e4c-476e-873e-9c0e5ea96966"
      },
      "execution_count": 141,
      "outputs": [
        {
          "output_type": "error",
          "ename": "SyntaxError",
          "evalue": "positional argument follows keyword argument (<ipython-input-141-d79f72e51575>, line 4)",
          "traceback": [
            "\u001b[0;36m  File \u001b[0;32m\"<ipython-input-141-d79f72e51575>\"\u001b[0;36m, line \u001b[0;32m4\u001b[0m\n\u001b[0;31m    print(suma(num1=5,5))\u001b[0m\n\u001b[0m                       ^\u001b[0m\n\u001b[0;31mSyntaxError\u001b[0m\u001b[0;31m:\u001b[0m positional argument follows keyword argument\n"
          ]
        }
      ]
    },
    {
      "cell_type": "code",
      "source": [
        "#5: True or False or False\n",
        "y = 1\n",
        "z = 2\n",
        "x = y < z or z > y and y > z or z < y\n",
        "x"
      ],
      "metadata": {
        "colab": {
          "base_uri": "https://localhost:8080/"
        },
        "id": "rqh9Fagd1fU2",
        "outputId": "8f08c1f8-90b6-4447-c363-d0596c5e555a"
      },
      "execution_count": 142,
      "outputs": [
        {
          "output_type": "execute_result",
          "data": {
            "text/plain": [
              "True"
            ]
          },
          "metadata": {},
          "execution_count": 142
        }
      ]
    },
    {
      "cell_type": "code",
      "source": [
        "#6: No se puede usar \"del\" para eliminar elementos de una cadena\n",
        "s = \"abcdef\"\n",
        "def fun(cadena):\n",
        "  del s[2]\n",
        "  return s\n",
        "print(fun(s))"
      ],
      "metadata": {
        "id": "6Nl0UPe324Gc",
        "colab": {
          "base_uri": "https://localhost:8080/",
          "height": 305
        },
        "outputId": "cd6eb35b-b233-482a-c868-535f77362208"
      },
      "execution_count": 143,
      "outputs": [
        {
          "output_type": "error",
          "ename": "TypeError",
          "evalue": "'str' object doesn't support item deletion",
          "traceback": [
            "\u001b[0;31m---------------------------------------------------------------------------\u001b[0m",
            "\u001b[0;31mTypeError\u001b[0m                                 Traceback (most recent call last)",
            "\u001b[0;32m<ipython-input-143-21ab8d4ca4ae>\u001b[0m in \u001b[0;36m<cell line: 0>\u001b[0;34m()\u001b[0m\n\u001b[1;32m      4\u001b[0m   \u001b[0;32mdel\u001b[0m \u001b[0ms\u001b[0m\u001b[0;34m[\u001b[0m\u001b[0;36m2\u001b[0m\u001b[0;34m]\u001b[0m\u001b[0;34m\u001b[0m\u001b[0;34m\u001b[0m\u001b[0m\n\u001b[1;32m      5\u001b[0m   \u001b[0;32mreturn\u001b[0m \u001b[0ms\u001b[0m\u001b[0;34m\u001b[0m\u001b[0;34m\u001b[0m\u001b[0m\n\u001b[0;32m----> 6\u001b[0;31m \u001b[0mprint\u001b[0m\u001b[0;34m(\u001b[0m\u001b[0mfun\u001b[0m\u001b[0;34m(\u001b[0m\u001b[0ms\u001b[0m\u001b[0;34m)\u001b[0m\u001b[0;34m)\u001b[0m\u001b[0;34m\u001b[0m\u001b[0;34m\u001b[0m\u001b[0m\n\u001b[0m",
            "\u001b[0;32m<ipython-input-143-21ab8d4ca4ae>\u001b[0m in \u001b[0;36mfun\u001b[0;34m(cadena)\u001b[0m\n\u001b[1;32m      2\u001b[0m \u001b[0ms\u001b[0m \u001b[0;34m=\u001b[0m \u001b[0;34m\"abcdef\"\u001b[0m\u001b[0;34m\u001b[0m\u001b[0;34m\u001b[0m\u001b[0m\n\u001b[1;32m      3\u001b[0m \u001b[0;32mdef\u001b[0m \u001b[0mfun\u001b[0m\u001b[0;34m(\u001b[0m\u001b[0mcadena\u001b[0m\u001b[0;34m)\u001b[0m\u001b[0;34m:\u001b[0m\u001b[0;34m\u001b[0m\u001b[0;34m\u001b[0m\u001b[0m\n\u001b[0;32m----> 4\u001b[0;31m   \u001b[0;32mdel\u001b[0m \u001b[0ms\u001b[0m\u001b[0;34m[\u001b[0m\u001b[0;36m2\u001b[0m\u001b[0;34m]\u001b[0m\u001b[0;34m\u001b[0m\u001b[0;34m\u001b[0m\u001b[0m\n\u001b[0m\u001b[1;32m      5\u001b[0m   \u001b[0;32mreturn\u001b[0m \u001b[0ms\u001b[0m\u001b[0;34m\u001b[0m\u001b[0;34m\u001b[0m\u001b[0m\n\u001b[1;32m      6\u001b[0m \u001b[0mprint\u001b[0m\u001b[0;34m(\u001b[0m\u001b[0mfun\u001b[0m\u001b[0;34m(\u001b[0m\u001b[0ms\u001b[0m\u001b[0;34m)\u001b[0m\u001b[0;34m)\u001b[0m\u001b[0;34m\u001b[0m\u001b[0;34m\u001b[0m\u001b[0m\n",
            "\u001b[0;31mTypeError\u001b[0m: 'str' object doesn't support item deletion"
          ]
        }
      ]
    },
    {
      "cell_type": "code",
      "source": [
        "#7: Se ordena a creciente\n",
        "x,y,z = 3,2,1\n",
        "z,y,x = x,y,z\n",
        "print(x,y,z)"
      ],
      "metadata": {
        "id": "NENrhJEt3z00"
      },
      "execution_count": null,
      "outputs": []
    },
    {
      "cell_type": "code",
      "source": [
        "#8: True or False = True, pero True and False = False\n",
        "a,b = True,False\n",
        "a = a or b\n",
        "b = a and b\n",
        "a = a or b\n",
        "print(a,b)"
      ],
      "metadata": {
        "id": "zWQ6KuLj4tuD"
      },
      "execution_count": null,
      "outputs": []
    },
    {
      "cell_type": "code",
      "source": [
        "#9: 1 // 2 = 0 y el resto es 1\n",
        "def fun(x):\n",
        "  return 1 if x % 2 != 0 else 2\n",
        "print(fun(fun(1)))"
      ],
      "metadata": {
        "id": "pMhFGZNT5iG8"
      },
      "execution_count": null,
      "outputs": []
    },
    {
      "cell_type": "code",
      "source": [
        "#10: Para definir una tupla de 1 elemento = (1,)\n",
        "len((1,))"
      ],
      "metadata": {
        "id": "4Vl5jH467C0U"
      },
      "execution_count": null,
      "outputs": []
    },
    {
      "cell_type": "code",
      "source": [
        "#11: en d[x], x se va actualizando asi d[0], d[2], d[3], d[1], creo, ejercicio confuso\n",
        "d = { 1:0 , 2:1 , 3:2 , 0:1 }\n",
        "x = 0\n",
        "for y in range(len(d)):\n",
        "  x = d[x]\n",
        "print(x)"
      ],
      "metadata": {
        "id": "cg42tte97Yjq"
      },
      "execution_count": null,
      "outputs": []
    },
    {
      "cell_type": "code",
      "source": [
        "#12: Concatena\n",
        "y = input()\n",
        "x = input()\n",
        "print(x+y)"
      ],
      "metadata": {
        "id": "PEnlOEH48EB_"
      },
      "execution_count": null,
      "outputs": []
    },
    {
      "cell_type": "code",
      "source": [
        "#13: Concatena pero separa con un '\n",
        "print(\"a\",\"b\",\"c\",sep=\"'\")"
      ],
      "metadata": {
        "id": "TR7i_ykD8-xs"
      },
      "execution_count": null,
      "outputs": []
    },
    {
      "cell_type": "code",
      "source": [
        "#14: Primero se dividen, luego se suman\n",
        "v = 1 + 1 // 2 + 1 / 2 + 2\n",
        "print(v)"
      ],
      "metadata": {
        "id": "XGShljzM9RHd"
      },
      "execution_count": null,
      "outputs": []
    },
    {
      "cell_type": "code",
      "source": [
        "#15: t[0] es 1\n",
        "t = (1,)\n",
        "t = t[0] + t[0]\n",
        "print(t)"
      ],
      "metadata": {
        "id": "cRmMmX879lHe"
      },
      "execution_count": null,
      "outputs": []
    },
    {
      "cell_type": "code",
      "source": [
        "#16: 16-8-4-2-1\n",
        "x = 16\n",
        "while x > 0:\n",
        "  print('*',end='')\n",
        "  x //= 2"
      ],
      "metadata": {
        "id": "IZbU6-AV-AIS"
      },
      "execution_count": null,
      "outputs": []
    },
    {
      "cell_type": "code",
      "source": [
        "#17: Ordena creciente a los valores del dict\n",
        "d = { \"one\":1, \"three\":3, \"two\":2}\n",
        "for k in sorted(d.values()):\n",
        "  print(k,end='')"
      ],
      "metadata": {
        "id": "dMZNXJkrANMQ"
      },
      "execution_count": null,
      "outputs": []
    },
    {
      "cell_type": "code",
      "source": [
        "#18: Es 0, no hay iteraciones porque no se definio asi: range(0,-2,-1)\n",
        "print(len([i for i in range(0,-2)]))"
      ],
      "metadata": {
        "id": "5cG2Qv4rAui1"
      },
      "execution_count": null,
      "outputs": []
    },
    {
      "cell_type": "code",
      "source": [
        "#20: map permite aplicar la funcion en cada elemento de l\n",
        "l = [1,2,3,4]\n",
        "l = list(map(lambda x: x*2,l))\n",
        "print(l)"
      ],
      "metadata": {
        "id": "xIr07YU4BX6K"
      },
      "execution_count": null,
      "outputs": []
    },
    {
      "cell_type": "code",
      "source": [
        "#21: El else mal posicionado no se ejecuta porque esta el break\n",
        "i = 4\n",
        "while i > 0:\n",
        "  i -= 2 #i=2\n",
        "  print('*')\n",
        "  if i == 2: #True\n",
        "    break\n",
        "else:\n",
        "  print(\"*\")"
      ],
      "metadata": {
        "id": "REM_vCs8GOkf"
      },
      "execution_count": null,
      "outputs": []
    },
    {
      "cell_type": "code",
      "source": [
        "#22:\n",
        "t = (1,2,3,4)\n",
        "t = t[-2:-1] #Toma el 3 hasta el ultimo elemento osea 4 pero sin tomarlo\n",
        "t = t[-1] #Toma el ultimo elemento que 3, tambien sirve t[0]\n",
        "t"
      ],
      "metadata": {
        "id": "qyQ6i_SpICfP"
      },
      "execution_count": null,
      "outputs": []
    },
    {
      "cell_type": "code",
      "source": [
        "#23: d[0][1] = 2, d[1][1] = 4\n",
        "d = {} # {'2': [1, 2], '1': [3, 4]}\n",
        "d['2'] = [1,2]\n",
        "d['1'] = [3,4]\n",
        "for x in d.keys():\n",
        "  print(d[x][1],end=\"\")"
      ],
      "metadata": {
        "id": "bSD7U6ETKL1W"
      },
      "execution_count": null,
      "outputs": []
    },
    {
      "cell_type": "code",
      "source": [
        "#24: El resultado es None ya que no se retorna nada\n",
        "def fun(d,k,v):\n",
        "  d[k] = v\n",
        "dc = {}\n",
        "print(fun(dc,\"1\",\"v\"))"
      ],
      "metadata": {
        "colab": {
          "base_uri": "https://localhost:8080/"
        },
        "id": "4LhzQ8pPOEvN",
        "outputId": "46124064-b6c8-450c-d1b8-6e80e8d32907"
      },
      "execution_count": 144,
      "outputs": [
        {
          "output_type": "stream",
          "name": "stdout",
          "text": [
            "None\n"
          ]
        }
      ]
    },
    {
      "cell_type": "code",
      "source": [
        "#25: Genera 2 lineas vacias\n",
        "l = [[c for c in range(r)] for r in range(3)] # [[], [0], [0, 1]]\n",
        "for i in l:\n",
        "  if len(i) < 2: #len([]) = 0 y len([0]) = 1\n",
        "    print()"
      ],
      "metadata": {
        "colab": {
          "base_uri": "https://localhost:8080/"
        },
        "id": "dMNxB5tgOspJ",
        "outputId": "40956c23-7d8a-45f8-c82a-0f0d7a065bc9"
      },
      "execution_count": 145,
      "outputs": [
        {
          "output_type": "stream",
          "name": "stdout",
          "text": [
            "\n",
            "\n"
          ]
        }
      ]
    },
    {
      "cell_type": "code",
      "source": [
        "#32: El else no tendria que ejecutarse ya que no hubo condiciones que no se cumplieron\n",
        "try:\n",
        "  raise Exception\n",
        "except BaseException: #Captura a al raise Exception como BaseException\n",
        "  print(\"a\",end='')\n",
        "else:\n",
        "  print(\"b\",end='')\n",
        "finally:\n",
        "  print(\"c\")"
      ],
      "metadata": {
        "colab": {
          "base_uri": "https://localhost:8080/"
        },
        "id": "bEL4LmOqT665",
        "outputId": "3519cf15-5bd7-4a72-a95e-dd03d99217e5"
      },
      "execution_count": 146,
      "outputs": [
        {
          "output_type": "stream",
          "name": "stdout",
          "text": [
            "ac\n"
          ]
        }
      ]
    },
    {
      "cell_type": "code",
      "source": [
        "#33: Muestra donde esta guardado la clase\n",
        "class A:\n",
        "  def __init__(self,name):\n",
        "    self.name = name\n",
        "a = A(\"class\")\n",
        "print(a)"
      ],
      "metadata": {
        "id": "FR03_NBXhBqx",
        "colab": {
          "base_uri": "https://localhost:8080/"
        },
        "outputId": "a6e47c2d-9774-40e4-8483-d6267c504358"
      },
      "execution_count": 147,
      "outputs": [
        {
          "output_type": "stream",
          "name": "stdout",
          "text": [
            "<__main__.A object at 0x78163a660a90>\n"
          ]
        }
      ]
    },
    {
      "cell_type": "code",
      "source": [
        "#34: No se puede poner varios \"except\"\n",
        "try:\n",
        "  raise Exception\n",
        "except:\n",
        "  print(\"a\")\n",
        "except BaseException:\n",
        "  print(\"b\")\n",
        "except Exception:\n",
        "  print(\"c\")"
      ],
      "metadata": {
        "id": "wF9bTbNZiJu7",
        "colab": {
          "base_uri": "https://localhost:8080/",
          "height": 109
        },
        "outputId": "24eba86b-62ab-413b-dcbf-23398dd330cc"
      },
      "execution_count": 148,
      "outputs": [
        {
          "output_type": "error",
          "ename": "SyntaxError",
          "evalue": "default 'except:' must be last (<ipython-input-148-d817228bffb4>, line 4)",
          "traceback": [
            "\u001b[0;36m  File \u001b[0;32m\"<ipython-input-148-d817228bffb4>\"\u001b[0;36m, line \u001b[0;32m4\u001b[0m\n\u001b[0;31m    except:\u001b[0m\n\u001b[0m    ^\u001b[0m\n\u001b[0;31mSyntaxError\u001b[0m\u001b[0;31m:\u001b[0m default 'except:' must be last\n"
          ]
        }
      ]
    },
    {
      "cell_type": "code",
      "source": [
        "#35: la clase padre X no hereda de Z, pero la clase Z si hereda de X\n",
        "class X:\n",
        "  pass\n",
        "class Y(X):\n",
        "  pass\n",
        "class Z(Y):\n",
        "  pass\n",
        "x = X()\n",
        "z = Z()\n",
        "print(isinstance(x,Z),isinstance(z,X))"
      ],
      "metadata": {
        "id": "Qc1PXnCDivLA"
      },
      "execution_count": null,
      "outputs": []
    },
    {
      "cell_type": "code",
      "source": [
        "#36: \\ ignora a la comilla que esta delante de el\n",
        "x = \"\\\"\n",
        "print(len(x))"
      ],
      "metadata": {
        "id": "cWMxYLwykPaF"
      },
      "execution_count": null,
      "outputs": []
    },
    {
      "cell_type": "code",
      "source": [
        "#37: Hay un espacio vacio\n",
        "x = '''\n",
        "'''\n",
        "len(x)"
      ],
      "metadata": {
        "id": "EClGE75omQNr"
      },
      "execution_count": null,
      "outputs": []
    },
    {
      "cell_type": "code",
      "source": [
        "#38: Muestra donde se guarda Class\n",
        "class Class:\n",
        "  def __init__(self):\n",
        "    pass\n",
        "Class() #Class(None) el None es tomado como argumento, lo cual daria error ya que pasamos 2 argumentos"
      ],
      "metadata": {
        "id": "03yhfWctmnsY"
      },
      "execution_count": null,
      "outputs": []
    },
    {
      "cell_type": "code",
      "source": [
        "#39:\n",
        "class A:\n",
        "  A = 1\n",
        "  def __init__(self,v = 2):\n",
        "    self.v = v + A.A # 2 + 1 = 3\n",
        "    A.A += 1 # A = 2\n",
        "  def sett(self,v):\n",
        "    self.v += v # 3 + 2 = 5\n",
        "    A.A += 1 # A = 3\n",
        "    return\n",
        "a = A()\n",
        "a.sett(2)\n",
        "print(a.v)"
      ],
      "metadata": {
        "id": "wI7v2bYjmotn",
        "colab": {
          "base_uri": "https://localhost:8080/"
        },
        "outputId": "3726831a-b0c1-43c8-d8b5-2fc434093dfd"
      },
      "execution_count": 167,
      "outputs": [
        {
          "output_type": "stream",
          "name": "stdout",
          "text": [
            "3\n"
          ]
        }
      ]
    },
    {
      "cell_type": "code",
      "source": [
        "#40: Es True porque el atributo A existe en la clase A\n",
        "class A:\n",
        "  A = 1\n",
        "  def __init__(self):\n",
        "    self.a = 0\n",
        "print(hasattr(A,'A'))"
      ],
      "metadata": {
        "id": "mCwrwP_bmoqM"
      },
      "execution_count": null,
      "outputs": []
    },
    {
      "cell_type": "code",
      "source": [
        "#41:\n",
        "class A:\n",
        "  pass\n",
        "class B:\n",
        "  pass\n",
        "class C(A,B):\n",
        "  pass\n",
        "print(issubclass(C,B),issubclass(C,A))"
      ],
      "metadata": {
        "id": "4jjqNijNmooF"
      },
      "execution_count": null,
      "outputs": []
    },
    {
      "cell_type": "code",
      "source": [
        "#44: Falta poner self como parametro en g(), si no, no se puede\n",
        "class A:\n",
        "  def __init__(self):\n",
        "    pass\n",
        "  def f(self):\n",
        "    return 1\n",
        "  def g():\n",
        "    return self.f()\n",
        "a = A()\n",
        "a.g()"
      ],
      "metadata": {
        "id": "dPKUcwZ9molo",
        "colab": {
          "base_uri": "https://localhost:8080/",
          "height": 180
        },
        "outputId": "17ca61e0-cd6b-4f33-eac1-234b07dc6b4d"
      },
      "execution_count": 159,
      "outputs": [
        {
          "output_type": "error",
          "ename": "TypeError",
          "evalue": "A.g() takes 0 positional arguments but 1 was given",
          "traceback": [
            "\u001b[0;31m---------------------------------------------------------------------------\u001b[0m",
            "\u001b[0;31mTypeError\u001b[0m                                 Traceback (most recent call last)",
            "\u001b[0;32m<ipython-input-159-e5e4b0289e02>\u001b[0m in \u001b[0;36m<cell line: 0>\u001b[0;34m()\u001b[0m\n\u001b[1;32m      8\u001b[0m     \u001b[0;32mreturn\u001b[0m \u001b[0mself\u001b[0m\u001b[0;34m.\u001b[0m\u001b[0mf\u001b[0m\u001b[0;34m(\u001b[0m\u001b[0;34m)\u001b[0m\u001b[0;34m\u001b[0m\u001b[0;34m\u001b[0m\u001b[0m\n\u001b[1;32m      9\u001b[0m \u001b[0ma\u001b[0m \u001b[0;34m=\u001b[0m \u001b[0mA\u001b[0m\u001b[0;34m(\u001b[0m\u001b[0;34m)\u001b[0m\u001b[0;34m\u001b[0m\u001b[0;34m\u001b[0m\u001b[0m\n\u001b[0;32m---> 10\u001b[0;31m \u001b[0ma\u001b[0m\u001b[0;34m.\u001b[0m\u001b[0mg\u001b[0m\u001b[0;34m(\u001b[0m\u001b[0;34m)\u001b[0m\u001b[0;34m\u001b[0m\u001b[0;34m\u001b[0m\u001b[0m\n\u001b[0m",
            "\u001b[0;31mTypeError\u001b[0m: A.g() takes 0 positional arguments but 1 was given"
          ]
        }
      ]
    },
    {
      "cell_type": "code",
      "source": [
        "#45: Ejecuta la primera funcion, no ambas\n",
        "class A:\n",
        "  def a(self):\n",
        "    print(\"a\")\n",
        "class B:\n",
        "  def b(self):\n",
        "    print(\"b\")\n",
        "class C(A,B):\n",
        "  def c(self):\n",
        "    self.a()\n",
        "o = C()\n",
        "o.c()"
      ],
      "metadata": {
        "colab": {
          "base_uri": "https://localhost:8080/"
        },
        "id": "Ncvuj1Py-9CU",
        "outputId": "0ef7c6f0-6697-4c07-ef8d-c8e4cc408737"
      },
      "execution_count": 158,
      "outputs": [
        {
          "output_type": "stream",
          "name": "stdout",
          "text": [
            "a\n"
          ]
        }
      ]
    },
    {
      "cell_type": "code",
      "source": [
        "#47:\n",
        "def I(n):\n",
        "  w = ''\n",
        "  for i in range(n):\n",
        "    w += '*'\n",
        "    yield w # *, **, *** = ******\n",
        "for x in I(3):\n",
        "  print(x,end='')"
      ],
      "metadata": {
        "colab": {
          "base_uri": "https://localhost:8080/"
        },
        "id": "RzuA-Bfb_5jh",
        "outputId": "842c6072-2e42-48dc-ff26-22183baef443"
      },
      "execution_count": 157,
      "outputs": [
        {
          "output_type": "stream",
          "name": "stdout",
          "text": [
            "******"
          ]
        }
      ]
    },
    {
      "cell_type": "code",
      "source": [
        "#48:\n",
        "def a(x):\n",
        "  def b():\n",
        "    return x + x\n",
        "  return b\n",
        "x = a('x') # 'x'+'x'\n",
        "y = a('') # ''+''\n",
        "print(x() + y()) # y() es una cadena vacia, no son 2 espacios vacios"
      ],
      "metadata": {
        "colab": {
          "base_uri": "https://localhost:8080/"
        },
        "id": "FrqpmPlPHK2i",
        "outputId": "ce843b67-973f-4811-bbb2-1bc390cbdcc9"
      },
      "execution_count": 164,
      "outputs": [
        {
          "output_type": "stream",
          "name": "stdout",
          "text": [
            "xx\n"
          ]
        }
      ]
    },
    {
      "cell_type": "markdown",
      "source": [
        "27: --init--.py = Cuando queremos que una carpeta de nuestro disco local, sea un paquete de python con funciones, metodos, etc. Osea lo convertimos en paquete de python.\n",
        "\n",
        "28: --pycache-- = Es una carpeta de Python que guarda archivos.pyc con el fin de mejorar las ejecuciones de nuestros codigos\n",
        "\n",
        "29: --name-- = Al estar en un archivo cualquiera, devuelve \"--main--\"\n",
        "\n",
        "30: --or-- = Permite modificar el comportamiento del \"or\"\n",
        "\n",
        "31: El finally siempre se ejecuta en un try\n",
        "\n",
        "42: sys.stdout = Permite imprimir nuestro codigo en otro lugar como un archivo, en vez de imprimirlo en la consola.\n",
        "\n",
        "49: q=s.readlines(): si 's' es un archivo en modo lectura, q guarda las lineas en una lista\n",
        "\n",
        "50: Podemos usar el write() para escribir bytearrays en un archivo"
      ],
      "metadata": {
        "id": "Yl4HLxNoSBlg"
      }
    }
  ]
}